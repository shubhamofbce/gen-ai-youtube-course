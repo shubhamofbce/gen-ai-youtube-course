{
 "cells": [
  {
   "cell_type": "code",
   "execution_count": null,
   "metadata": {},
   "outputs": [],
   "source": [
    "%pip install -q openai chromadb tiktoken\n"
   ]
  },
  {
   "cell_type": "markdown",
   "metadata": {},
   "source": [
    "## Imports and OpenAI API Key setup"
   ]
  },
  {
   "cell_type": "code",
   "execution_count": 16,
   "metadata": {},
   "outputs": [],
   "source": [
    "import os\n",
    "import openai\n",
    "import chromadb\n",
    "from chromadb.config import Settings\n",
    "from tiktoken import get_encoding\n",
    "\n",
    "from dotenv import load_dotenv\n",
    "load_dotenv()\n",
    "\n",
    "import os\n",
    "\n",
    "API_KEY = os.getenv(\"OPENAI_API_KEY\")\n"
   ]
  },
  {
   "cell_type": "markdown",
   "metadata": {},
   "source": [
    "## Load Raw Content"
   ]
  },
  {
   "cell_type": "code",
   "execution_count": 17,
   "metadata": {},
   "outputs": [],
   "source": [
    "# Sample content - replace this with content from a file if needed\n",
    "content = \"\"\"\n",
    "Virat Kohli is one of the most iconic cricketers in the world today. He was born on November 5, 1988, in Delhi, India.\n",
    "Kohli rose through the ranks of domestic cricket and gained attention after leading India to victory in the 2008 U-19 Cricket World Cup.\n",
    "He made his debut for the Indian national team later that year. Initially seen as an aggressive youngster, Kohli matured into a consistent and dependable batsman. \n",
    "His aggressive batting style and incredible fitness became his trademarks. \n",
    "Kohli quickly became known for his ability to chase down totals under pressure. \n",
    "He has often been referred to as the \"Chase Master\" in One Day Internationals. He was named vice-captain of India in 2012 and eventually became captain in all formats. Kohli succeeded MS Dhoni as Test captain in 2014. Under his leadership, India became the number one Test team in the world. He led India to a historic Test series win in Australia in 2018-19. Kohli holds the record for the fastest 8,000, 9,000, 10,000, and 11,000 runs in ODI cricket. He has scored over 70 international centuries. Kohli has won multiple ICC awards including the ICC Cricketer of the Year. He is also one of the most followed athletes globally on social media. Apart from cricket, he is passionate about fitness and healthy living. Kohli follows a strict diet and workout regimen. He is credited with revolutionizing fitness standards in Indian cricket. Kohli is married to Bollywood actress Anushka Sharma. The couple welcomed their daughter Vamika in January 2021. Kohli is a vocal advocate for animal rights and mental health awareness. He co-owns FC Goa, a football team in the Indian Super League. Kohli has been the face of several major brands and endorsements. He has played for Royal Challengers Bangalore (RCB) since the inception of the Indian Premier League. He holds the record for the most runs in a single IPL season. Despite not winning an IPL trophy, he remains a fan favorite. Kohli stepped down as India's T20 captain in 2021 and as ODI and Test captain soon after. He continues to play an important role in the team as a senior player and mentor. He is known for his intensity on the field and humility off it. Kohli remains one of the most inspiring figures in modern cricket. His discipline, consistency, and hunger for success continue to influence the next generation of cricketers.\n",
    "\"\"\"\n"
   ]
  },
  {
   "cell_type": "markdown",
   "metadata": {},
   "source": [
    "## Chunking the text"
   ]
  },
  {
   "cell_type": "code",
   "execution_count": null,
   "metadata": {},
   "outputs": [],
   "source": [
    "# Simple sentence-based chunking (naive)\n",
    "chunks = [chunk.strip() for chunk in content.split('.') if chunk.strip()]\n",
    "print(len(chunks))\n",
    "\n",
    "for chunk in chunks:\n",
    "    print(chunk)\n",
    "    print(\"-\"*100)\n"
   ]
  },
  {
   "cell_type": "markdown",
   "metadata": {},
   "source": [
    "## Generate OpenAI embeddings"
   ]
  },
  {
   "cell_type": "code",
   "execution_count": 45,
   "metadata": {},
   "outputs": [],
   "source": [
    "from openai import OpenAI\n",
    "client = OpenAI()\n",
    "\n",
    "def get_embeddings(text):\n",
    "    response = client.embeddings.create(\n",
    "        input=text,\n",
    "        model=\"text-embedding-3-small\"\n",
    "    )\n",
    "    return response.data[0].embedding\n",
    "\n"
   ]
  },
  {
   "cell_type": "markdown",
   "metadata": {},
   "source": [
    "## Store Chunks in Chroma DB"
   ]
  },
  {
   "cell_type": "code",
   "execution_count": null,
   "metadata": {},
   "outputs": [],
   "source": [
    "# Initialize Chroma DB\n",
    "chroma_client = chromadb.Client(Settings(\n",
    "    persist_directory=\"./chroma_store\"\n",
    "))\n",
    "\n",
    "collection = chroma_client.get_or_create_collection(name=\"kohli_v2\")\n",
    "\n",
    "i = 457\n",
    "for chunk in chunks:\n",
    "    collection.add(\n",
    "        ids=[f\"chunk-{i}\"],\n",
    "        documents=[chunk],\n",
    "        embeddings=[get_embeddings(chunk)]\n",
    "    )\n",
    "    i+=1\n"
   ]
  },
  {
   "cell_type": "markdown",
   "metadata": {},
   "source": [
    "## Query the Vector DB"
   ]
  },
  {
   "cell_type": "code",
   "execution_count": null,
   "metadata": {},
   "outputs": [],
   "source": [
    "# Ask a question\n",
    "\n",
    "query1 = \"Who is the life partner of Kohli?\"\n",
    "query2 = \"Which historic Test series did India win under Kohli's captaincy?\"\n",
    "query3 = \"What are some of Kohli's interests outside cricket?\"\n",
    "\n",
    "query = query1\n",
    "query_embedding = get_embeddings([query])\n",
    "\n",
    "results = collection.query(\n",
    "    query_embeddings=[query_embedding],\n",
    "    n_results=3\n",
    ")\n",
    "\n",
    "top_chunks = results['documents'][0]\n",
    "\n",
    "for chunk in top_chunks:\n",
    "    print(chunk)\n",
    "    print(\"-\"*100)\n"
   ]
  },
  {
   "cell_type": "markdown",
   "metadata": {},
   "source": [
    "## Pass the context and query to the OpenAI API"
   ]
  },
  {
   "cell_type": "code",
   "execution_count": null,
   "metadata": {},
   "outputs": [],
   "source": [
    "context = \"\\n\".join(top_chunks)\n",
    "system_prompt = \"You are a helpful AI assistant. Answer based on the given context only. Do not answer if the answer is not in context\"\n",
    "\n",
    "client = OpenAI(\n",
    "    api_key=os.environ.get(\"OPENAI_API_KEY\"),\n",
    ")\n",
    "\n",
    "response = client.responses.create(\n",
    "    model=\"gpt-4o\",\n",
    "    instructions=f'''{system_prompt}''',\n",
    "    input=f\"Context: {context} and Queston {query}\",\n",
    "    temperature=0.1\n",
    ")\n",
    "\n",
    "print(\"🧠 Answer from OpenAI:\")\n",
    "print(response.output_text)\n"
   ]
  }
 ],
 "metadata": {
  "kernelspec": {
   "display_name": "Python 3",
   "language": "python",
   "name": "python3"
  },
  "language_info": {
   "codemirror_mode": {
    "name": "ipython",
    "version": 3
   },
   "file_extension": ".py",
   "mimetype": "text/x-python",
   "name": "python",
   "nbconvert_exporter": "python",
   "pygments_lexer": "ipython3",
   "version": "3.11.10"
  }
 },
 "nbformat": 4,
 "nbformat_minor": 2
}
