{
 "cells": [
  {
   "cell_type": "markdown",
   "id": "d4aef2fd",
   "metadata": {},
   "source": [
    "## 1. Installing Dependencies\n",
    "Install the `openai` library to interact with OpenAI's APIs."
   ]
  },
  {
   "cell_type": "code",
   "execution_count": null,
   "id": "443ef3d2",
   "metadata": {},
   "outputs": [],
   "source": [
    "%pip install -q openai\n",
    "%pip install -q python-dotenv"
   ]
  },
  {
   "cell_type": "markdown",
   "id": "d1ccd822",
   "metadata": {},
   "source": [
    "## 2. Setting the OpenAI API Key"
   ]
  },
  {
   "cell_type": "code",
   "execution_count": null,
   "id": "6ce82289",
   "metadata": {},
   "outputs": [],
   "source": [
    "from dotenv import load_dotenv\n",
    "load_dotenv()\n",
    "\n",
    "import os\n",
    "\n",
    "API_KEY = os.getenv(\"OPENAI_API_KEY\")"
   ]
  },
  {
   "cell_type": "markdown",
   "id": "c3b7c1e3",
   "metadata": {},
   "source": [
    "## 3. Calling the Responses API\n",
    "Let's ask a simple question to the Chat Completions endpoint."
   ]
  },
  {
   "cell_type": "code",
   "execution_count": null,
   "id": "47956911",
   "metadata": {},
   "outputs": [],
   "source": [
    "import os\n",
    "from openai import OpenAI\n",
    "\n",
    "client = OpenAI(\n",
    "    api_key=os.environ.get(\"OPENAI_API_KEY\"),\n",
    ")\n",
    "\n",
    "system_instruction = \"You are a helpful technical assistant and You have to give step wise solution for any how to query.\"\n",
    "user_prompt = \"How can we upload a video to youtube?\"\n",
    "\n",
    "response = client.responses.create(\n",
    "    model=\"gpt-4o\",\n",
    "    instructions=system_instruction,\n",
    "    input=user_prompt,\n",
    ")\n",
    "\n",
    "print(response.output_text)"
   ]
  },
  {
   "cell_type": "markdown",
   "id": "3cd53d45",
   "metadata": {},
   "source": [
    "\n",
    "## 4. Explaining Parameters\n",
    "\n",
    "Here are some commonly used parameters in Chat Completions API:\n",
    "\n",
    "- `temperature` (float): Controls randomness. Lower = more deterministic.\n",
    "- `top_p` (float): Controls diversity via nucleus sampling. Use either this or `temperature`.\n",
    "- `max_tokens` (int): Max number of tokens in the output.\n",
    "- `presence_penalty` (float): Encourages talking about new topics.\n",
    "\n",
    "Let's see how changing these parameters affects the response.\n"
   ]
  },
  {
   "cell_type": "code",
   "execution_count": null,
   "id": "de3a0433",
   "metadata": {},
   "outputs": [],
   "source": [
    "import os\n",
    "from openai import OpenAI\n",
    "\n",
    "client = OpenAI(\n",
    "    api_key=os.environ.get(\"OPENAI_API_KEY\"),\n",
    ")\n",
    "\n",
    "response = client.responses.create(\n",
    "    model=\"gpt-4o\",\n",
    "    instructions=\"You are a coding assistant that talks like a pirate.\",\n",
    "    input=\"How do I check if a Python object is an instance of a class?\",\n",
    "    temperature=0.5,\n",
    "    top_p=0.95,\n",
    "    max_output_tokens=100\n",
    ")\n",
    "\n",
    "print(response.output_text)"
   ]
  },
  {
   "cell_type": "markdown",
   "id": "cb5d497b",
   "metadata": {},
   "source": [
    "## 5. Generating an Image (DALL·E API)\n",
    "Now let's generate an image using the DALL·E model."
   ]
  },
  {
   "cell_type": "code",
   "execution_count": null,
   "id": "5beed635",
   "metadata": {},
   "outputs": [],
   "source": [
    "from openai import OpenAI\n",
    "client = OpenAI()\n",
    "\n",
    "result = client.images.generate(\n",
    "    model=\"dall-e-2\",\n",
    "    prompt=\"a white siamese cat\",\n",
    "    size=\"1024x1024\",\n",
    "    n=1,\n",
    ")\n",
    "\n",
    "print(result.data[0].url)"
   ]
  },
  {
   "cell_type": "markdown",
   "id": "2a9595c3",
   "metadata": {},
   "source": [
    "## 6. Creating Audio (Text-to-Speech / TTS)\n",
    "Generate audio from text using the TTS API."
   ]
  },
  {
   "cell_type": "code",
   "execution_count": null,
   "id": "97bd7486",
   "metadata": {},
   "outputs": [],
   "source": [
    "\n",
    "\n",
    "response = openai.audio.speech.create(\n",
    "    model=\"tts-1\",\n",
    "    voice=\"nova\",\n",
    "    input=\"Hello, this is a test message.\"\n",
    ")\n",
    "\n",
    "# Save to file (optional)\n",
    "with open(\"output.mp3\", \"wb\") as f:\n",
    "    f.write(response.read())\n",
    "\n",
    "print(\"Audio saved to output.mp3\")\n"
   ]
  }
 ],
 "metadata": {
  "kernelspec": {
   "display_name": "Python 3",
   "language": "python",
   "name": "python3"
  },
  "language_info": {
   "codemirror_mode": {
    "name": "ipython",
    "version": 3
   },
   "file_extension": ".py",
   "mimetype": "text/x-python",
   "name": "python",
   "nbconvert_exporter": "python",
   "pygments_lexer": "ipython3",
   "version": "3.11.10"
  }
 },
 "nbformat": 4,
 "nbformat_minor": 5
}
